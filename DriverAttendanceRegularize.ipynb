{
 "cells": [
  {
   "cell_type": "code",
   "execution_count": 3,
   "id": "84b1647c",
   "metadata": {},
   "outputs": [],
   "source": [
    "import numpy as np\n",
    "import glob, json, os, sys\n",
    "from datetime import datetime, timedelta\n",
    "import matplotlib.pyplot as plt\n",
    "from copy import deepcopy\n",
    "\n",
    "ts2dt = lambda x: datetime.fromtimestamp(x/1000)"
   ]
  },
  {
   "cell_type": "code",
   "execution_count": null,
   "id": "e938a0c0",
   "metadata": {},
   "outputs": [],
   "source": []
  },
  {
   "cell_type": "code",
   "execution_count": 4,
   "id": "1f57eae0",
   "metadata": {},
   "outputs": [],
   "source": [
    "from datetime import datetime\n",
    "\n",
    "def overlap(s1, s2):\n",
    "    # s1 overrides s2\n",
    "    # returns:\n",
    "    #   isOverlapFound\n",
    "    #   remnant of s1 (since overriding shld be same as input)\n",
    "    #   remnant of s2 (cut out s1 portions)\n",
    "    \n",
    "    \n",
    "    if s1['start']<=s2['end'] and s1['end']>=s2['start']:\n",
    "        s1Lst = s1\n",
    "        s2Lst = []\n",
    "        if s1['start']<=s2['start'] and s1['end']>=s2['end']:\n",
    "            # s2 full inside s1\n",
    "            s2Lst = []\n",
    "            \n",
    "        elif s1['start']<=s2['start'] and s1['end']<=s2['end']:\n",
    "            # s2 cut from left-end\n",
    "            s2Lst = [(s1['end'], s2['end'])]\n",
    "            \n",
    "        elif s1['start']>=s2['start'] and s1['end']>=s2['end']:\n",
    "            # s2 cut from right-end\n",
    "            s2Lst = [(s2['start'], s1['start'])]\n",
    "            \n",
    "        elif s1['start']>=s2['start'] and s1['end']<=s2['end']:\n",
    "            # s2 split into 2 parts\n",
    "            s2Lst = [(s2['start'], s1['start']), (s1['end'], s2['end'])]\n",
    "            \n",
    "        return True, s1Lst, s2Lst\n",
    "\n",
    "    return False, s1, s2\n"
   ]
  },
  {
   "cell_type": "code",
   "execution_count": 5,
   "id": "e7ded876",
   "metadata": {},
   "outputs": [
    {
     "name": "stdout",
     "output_type": "stream",
     "text": [
      "[14, 20]\n",
      "(True, {'start': datetime.datetime(2025, 1, 1, 6, 0), 'end': datetime.datetime(2025, 1, 1, 16, 0)}, [(datetime.datetime(2025, 1, 1, 16, 0), datetime.datetime(2025, 1, 1, 20, 0))])\n",
      "\n",
      "[12, 14]\n",
      "(True, {'start': datetime.datetime(2025, 1, 1, 6, 0), 'end': datetime.datetime(2025, 1, 1, 16, 0)}, [])\n",
      "\n",
      "[4, 12]\n",
      "(True, {'start': datetime.datetime(2025, 1, 1, 6, 0), 'end': datetime.datetime(2025, 1, 1, 16, 0)}, [(datetime.datetime(2025, 1, 1, 4, 0), datetime.datetime(2025, 1, 1, 6, 0))])\n",
      "\n",
      "[4, 5]\n",
      "(False, {'start': datetime.datetime(2025, 1, 1, 6, 0), 'end': datetime.datetime(2025, 1, 1, 16, 0)}, {'start': datetime.datetime(2025, 1, 1, 4, 0), 'end': datetime.datetime(2025, 1, 1, 5, 0)})\n",
      "\n",
      "[4, 20]\n",
      "(True, {'start': datetime.datetime(2025, 1, 1, 6, 0), 'end': datetime.datetime(2025, 1, 1, 16, 0)}, [(datetime.datetime(2025, 1, 1, 4, 0), datetime.datetime(2025, 1, 1, 6, 0)), (datetime.datetime(2025, 1, 1, 16, 0), datetime.datetime(2025, 1, 1, 20, 0))])\n",
      "\n"
     ]
    }
   ],
   "source": [
    "for hrs in [[14,20], [12,14], [4,12], [4,5], [4,20]]:\n",
    "    s1 = {'start':datetime(2025,1,1,6), 'end':datetime(2025,1,1,16)}\n",
    "    s2 = {'start':datetime(2025,1,1,hrs[0]), 'end':datetime(2025,1,1,hrs[1])}\n",
    "    print(hrs)\n",
    "    print(overlap(s1,s2))\n",
    "    print()\n"
   ]
  },
  {
   "cell_type": "markdown",
   "id": "7b1a2f15",
   "metadata": {},
   "source": [
    "### Some of the catches / scenarios handled\n",
    "- later user session should override previous user sessions \n",
    "- should not double count overlapping times for user (merge similar type sessions)\n",
    "- multiple camera session overlapping with user session will be dropped (e.g. 2-5 2 vehicles are present, 3-5 user says the driver is present then the count will be 3-5 (2hrs) + 2-3 (1 hrs) 1st vehicle + 2-3 (1 hrs) 2nd vehicle = 4 hrs)\n",
    "- finally only camera sessions where there is no user session will be retained as is"
   ]
  },
  {
   "cell_type": "code",
   "execution_count": 6,
   "id": "fbfb1f22",
   "metadata": {},
   "outputs": [],
   "source": [
    "attendance range: 5 Jan - 10 Jan\n",
    "Cam session: 4 Jan - 6 Jan --> 5 Jan - 6 Jan"
   ]
  },
  {
   "cell_type": "code",
   "execution_count": 7,
   "id": "751031e8",
   "metadata": {},
   "outputs": [],
   "source": [
    "# reconcile sessions\n",
    "from copy import deepcopy\n",
    "\n",
    "def reconcileSessions(sessionsList):\n",
    "    # sessionsList: [{'sessId':'id', 'sign':'p/n', 'type':'sys/user', 'start':time, 'end':time}, ..]\n",
    "    # Approach:\n",
    "    #  1. Get final user session: lastest (last) user session as the over-rides prev ones\n",
    "    #  2. Edit sys(cam) session by final user session:\n",
    "    #     basically collect only remnants as camera based inputs, else all is overridden by user input\n",
    "    \n",
    "    \n",
    "    # 1. reconcile user sessions into pSess (+ve) and nSess(-ve)\n",
    "    userSess = []\n",
    "    for sess in sessionsList:\n",
    "        if sess['type']=='sys':\n",
    "            continue\n",
    "        newSess = deepcopy(sess)\n",
    "        \n",
    "        modSess = [] # track how older sessions are modified by the latest session\n",
    "        for nSess, prevSess in enumerate(userSess):\n",
    "            isOverlap, s1Lst, s2Lst = overlap(sess,prevSess) # latest user session takes precendence\n",
    "            if isOverlap:\n",
    "                    \n",
    "                if newSess['sign']==prevSess['sign']: # merge similar sess\n",
    "                    newSess['start'] = min(newSess['start'], prevSess['start'])\n",
    "                    newSess['end'] = max(newSess['end'], prevSess['end'])\n",
    "                    modSess.append((nSess,None)) # remove prev added session, since its combined into newSess\n",
    "                elif len(s2Lst)==0:\n",
    "                    # nothing remains of 2nd session so remove it\n",
    "                    modSess.append((nSess,None)) \n",
    "                else:\n",
    "                    for ntim, tims in enumerate(s2Lst):\n",
    "                        mSess = deepcopy(prevSess)\n",
    "                        mSess['start'] = tims[0]\n",
    "                        mSess['end'] = tims[1]\n",
    "                        # if a session is split into 2 then only once the original entry shld be removed\n",
    "                        rmIndex = nSess if ntim==0 else -1\n",
    "                        modSess.append((rmIndex, mSess))\n",
    "                        \n",
    "        # add back the modified sessions\n",
    "        for nSess, sess in modSess[::-1]:\n",
    "            if nSess>=0:\n",
    "                userSess.pop(nSess)\n",
    "            if sess is not None:\n",
    "                userSess.append(sess)\n",
    "        # latest session (overriding one) is added as is\n",
    "        userSess.append(newSess)\n",
    "        \n",
    "    # 2. Collect remnants of each camera session after being overridden by user session\n",
    "    sysSess = []\n",
    "    for sess in sessionsList:\n",
    "        if sess['type']=='user':\n",
    "            continue\n",
    "\n",
    "        newSessions = [deepcopy(sess)] # holder to keep track of sessions (can break, disappear)\n",
    "\n",
    "        # check with all (final) user sessions\n",
    "        for nSess, curUserSess in enumerate(userSess):\n",
    "            modSess = [] # track how the current (cam) session is modified by curUserSess\n",
    "            for chkSess in newSessions:\n",
    "                isOverlap, s1Lst, s2Lst = overlap(curUserSess, chkSess) # user session takes precedence                    \n",
    "                if isOverlap:\n",
    "                    # if there is overlap then collect the remnants\n",
    "                    for tims in s2Lst:\n",
    "                        mSess = deepcopy(chkSess)\n",
    "                        mSess['start'] = tims[0]\n",
    "                        mSess['end'] = tims[1]\n",
    "                        modSess.append(mSess)\n",
    "                else:\n",
    "                    # if noOverlap then session is as is\n",
    "                    modSess.append(chkSess)\n",
    "            newSessions = deepcopy(modSess) # work with modified session for rest of userSess check\n",
    "\n",
    "        # add the modified session to final list\n",
    "        sysSess += newSessions\n",
    "                \n",
    "#         plt.figure()\n",
    "#         plotSessions(sysSess)\n",
    "#         plotSessions(userSess, offset=2)\n",
    "        \n",
    "    # count present hours between sysSess and userSess\n",
    "    pHrs, nHrs = 0, 0\n",
    "    for sess in sysSess+userSess:\n",
    "        dur = (sess['end']-sess['start']).total_seconds()/3600.0\n",
    "        if sess['sign']=='p':\n",
    "            pHrs += dur\n",
    "        else:\n",
    "            nHrs += dur\n",
    "    \n",
    "    return (pHrs, nHrs), {'userSess':userSess, 'sysSess':sysSess}\n",
    "    "
   ]
  },
  {
   "cell_type": "code",
   "execution_count": 20,
   "id": "6fdb50b5",
   "metadata": {},
   "outputs": [],
   "source": [
    "\n",
    "def getTime(hrs):\n",
    "    vs = hrs.split(':')\n",
    "    if len(vs)==2:\n",
    "        return datetime(2025,1,1,int(vs[0]), int(vs[1]))\n",
    "    return datetime(2025,1,1,int(vs[0]))\n",
    "    \n",
    "camSess = []\n",
    "\n",
    "for hrs in [['6','11'], ['13','16:30'], ['18','20'], ['6','22']]:\n",
    "    s2 = {'start': getTime(hrs[0]), 'end':getTime(hrs[1])}\n",
    "    s2['sign'] = 'p'\n",
    "    s2['id'] = 'id_%d'%(len(camSess)+1)\n",
    "    s2['type'] = 'sys'\n",
    "    camSess.append(s2)\n",
    "    \n",
    "for hrs in [['10','13:30']]:\n",
    "    s2 = {'start': getTime(hrs[0]), 'end':getTime(hrs[1])}\n",
    "    s2['sign'] = 'p'\n",
    "    s2['id'] = 'id_%d'%(len(camSess)+1)\n",
    "    s2['type'] = 'sys'\n",
    "    camSess.append(s2)\n",
    "    \n",
    "userSess = []\n",
    "for hrs in [['6','11','p'], ['16','22','p'], ['12','19','p']]:#, ['4','23','p']]:\n",
    "    s2 = {'start': getTime(hrs[0]), 'end':getTime(hrs[1])}\n",
    "    s2['sign'] = hrs[2]\n",
    "    s2['id'] = 'id_%d'%(len(camSess)+1)\n",
    "    s2['type'] = 'user'\n",
    "    userSess.append(s2)\n",
    "    \n",
    "allSess = camSess + userSess"
   ]
  },
  {
   "cell_type": "code",
   "execution_count": 21,
   "id": "0694846f",
   "metadata": {},
   "outputs": [
    {
     "name": "stdout",
     "output_type": "stream",
     "text": [
      "(17.0, 0)\n"
     ]
    }
   ],
   "source": [
    "hrs, meta = reconcileSessions(allSess)\n",
    "print(hrs)"
   ]
  },
  {
   "cell_type": "code",
   "execution_count": 22,
   "id": "1f15e005",
   "metadata": {},
   "outputs": [
    {
     "data": {
      "text/plain": [
       "Text(0.5, 1.0, 'Cam:black, User(present):green, User(absent):red')"
      ]
     },
     "execution_count": 22,
     "metadata": {},
     "output_type": "execute_result"
    },
    {
     "data": {
      "image/png": "[encoded data removed]",
      "text/plain": [
       "<Figure size 640x480 with 1 Axes>"
      ]
     },
     "metadata": {},
     "output_type": "display_data"
    }
   ],
   "source": [
    "\n",
    "def plotSessions(sessions, offset=0, lstyle='-'):\n",
    "    for nsess, sess in enumerate(sessions):\n",
    "        col = 'kx'\n",
    "        val = 0 + offset + nsess*0.1\n",
    "        if sess['type']=='user':\n",
    "            val = 1 + offset + nsess*0.1\n",
    "            col = 'go'\n",
    "            if sess['sign']=='n':\n",
    "                col = 'ro'\n",
    "        plt.plot([sess['start'], sess['end']], [val]*2, lstyle+col)\n",
    "        \n",
    "plotSessions(allSess, lstyle='--')\n",
    "plotSessions(meta['userSess']+meta['sysSess'], offset=2)\n",
    "plt.grid()\n",
    "plt.title('Cam:black, User(present):green, User(absent):red')"
   ]
  },
  {
   "cell_type": "code",
   "execution_count": null,
   "id": "d992db10",
   "metadata": {},
   "outputs": [],
   "source": []
  },
  {
   "cell_type": "code",
   "execution_count": null,
   "id": "00063a11",
   "metadata": {},
   "outputs": [],
   "source": []
  }
 ],
 "metadata": {
  "kernelspec": {
   "display_name": "Python 3 (ipykernel)",
   "language": "python",
   "name": "python3"
  },
  "language_info": {
   "codemirror_mode": {
    "name": "ipython",
    "version": 3
   },
   "file_extension": ".py",
   "mimetype": "text/x-python",
   "name": "python",
   "nbconvert_exporter": "python",
   "pygments_lexer": "ipython3",
   "version": "3.11.5"
  }
 },
 "nbformat": 4,
 "nbformat_minor": 5
}
